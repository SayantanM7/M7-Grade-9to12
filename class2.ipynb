{
 "cells": [
  {
   "cell_type": "code",
   "execution_count": 1,
   "metadata": {},
   "outputs": [
    {
     "name": "stdout",
     "output_type": "stream",
     "text": [
      "Name : Penguin\n",
      "Data Type of Name is <class 'str'>\n",
      "Age : 15\n",
      "Data Type of Age is <class 'int'>\n",
      "is_student : True\n",
      "Data Type of is_student is <class 'bool'>\n",
      "Weight : 38.5\n",
      "Data Type of weight is <class 'float'>\n",
      "\n",
      " After Type Casting....\n",
      "15\n",
      "Data Type of age is <class 'str'>\n",
      "38\n",
      "Data Type of Weight is <class 'int'>\n"
     ]
    }
   ],
   "source": [
    "#datatypes\n",
    "name = \"Penguin\"\n",
    "age = 15\n",
    "is_student = True\n",
    "weight = 38.5\n",
    "\n",
    "print(\"Name :\", name)\n",
    "print(\"Data Type of Name is\", type(name))\n",
    "print(\"Age :\", age)\n",
    "print(\"Data Type of Age is\", type(age))\n",
    "print(\"is_student :\", is_student)\n",
    "print(\"Data Type of is_student is\", type(is_student))\n",
    "print(\"Weight :\", weight)\n",
    "print(\"Data Type of weight is\", type(weight))\n",
    "\n",
    "print(\"\\n After Type Casting....\")\n",
    "age = str(age)\n",
    "print(age)\n",
    "print(\"Data Type of age is\", type(age))\n",
    "weight = int(weight)\n",
    "print(weight)\n",
    "print(\"Data Type of Weight is\", type(weight))\n",
    "\n",
    "\n"
   ]
  },
  {
   "cell_type": "code",
   "execution_count": 2,
   "metadata": {},
   "outputs": [
    {
     "name": "stdout",
     "output_type": "stream",
     "text": [
      "Number 1 45\n",
      "Number 2 3\n",
      "Addition : 48\n",
      "Difference : 42\n",
      "Product : 135\n",
      "Division : 15.0\n",
      "Floor Division : 15\n",
      "Modulus Operation : 0\n",
      "Square : 9\n",
      "Square Root : 6.708203932499369\n",
      "Equal ? False\n",
      "Number 1 greater? True\n",
      "Number 2 greater? False\n",
      "Not Equal ? True\n",
      "Result of given equation is: 41.5\n"
     ]
    }
   ],
   "source": [
    "#python operators\n",
    "num1 = 45\n",
    "num2 = 3\n",
    "\n",
    "print(\"Number 1\", num1)\n",
    "print(\"Number 2\", num2)\n",
    "print(\"Addition :\", num1+num2)\n",
    "print(\"Difference :\", num1-num2)\n",
    "print(\"Product :\", num1*num2)\n",
    "print(\"Division :\", num1/num2)\n",
    "print(\"Floor Division :\", num1//num2)\n",
    "print(\"Modulus Operation :\", num1%num2)\n",
    "print(\"Square :\", num2**2)\n",
    "print(\"Square Root :\", num1**0.5)\n",
    "\n",
    "print(\"Equal ?\", num1==num2)\n",
    "print(\"Number 1 greater?\", num1>num2)\n",
    "print(\"Number 2 greater?\", num1<num2)\n",
    "print(\"Not Equal ?\", num1!=num2)\n",
    "\n",
    "result = num1/2+num2**2+10\n",
    "print(\"Result of given equation is:\", result)"
   ]
  },
  {
   "cell_type": "code",
   "execution_count": 3,
   "metadata": {},
   "outputs": [
    {
     "name": "stdout",
     "output_type": "stream",
     "text": [
      "First Name : Codingal\n",
      "Last Name : Educations\n",
      "Full Name : CodingalEducations\n",
      "String Multiplied 5 times gives this result : HaaHaaHaaHaaHaa\n",
      "Length of String : 6\n",
      "First Letter of String : C\n",
      "Last Letter of String : g\n",
      "String Sliced : Cod\n"
     ]
    }
   ],
   "source": [
    "#String Operations\n",
    "first_name = \"Codingal\"\n",
    "last_name = \"Educations\"\n",
    "full_name = first_name+last_name\n",
    "example = \"Haa\"*5\n",
    "\n",
    "print(\"First Name :\", first_name)\n",
    "print(\"Last Name :\", last_name)\n",
    "print(\"Full Name :\", full_name)\n",
    "print(\"String Multiplied 5 times gives this result :\", example)\n",
    "\n",
    "word = 'Coding'\n",
    "print(\"Length of String :\", len(word))\n",
    "print(\"First Letter of String :\", word[0])\n",
    "print(\"Last Letter of String :\", word[5])\n",
    "print(\"String Sliced :\", word[0:3])\n",
    "\n"
   ]
  },
  {
   "cell_type": "code",
   "execution_count": 4,
   "metadata": {},
   "outputs": [
    {
     "name": "stdout",
     "output_type": "stream",
     "text": [
      "value of x after swapping 23\n",
      "value of y after swapping 12\n"
     ]
    }
   ],
   "source": [
    "#Number swapping\n",
    "# Take input values from user\n",
    "x = input(\"Enter Value of x:\")\n",
    "y = input(\"Enter Value of y:\")\n",
    "\n",
    "# Swapping\n",
    "temp = x\n",
    "x = y\n",
    "y = temp\n",
    "\n",
    "# Displaying results after swapping\n",
    "print(\"value of x after swapping\", x)\n",
    "print(\"value of y after swapping\", y)\n"
   ]
  },
  {
   "cell_type": "code",
   "execution_count": null,
   "metadata": {},
   "outputs": [],
   "source": []
  }
 ],
 "metadata": {
  "kernelspec": {
   "display_name": "base",
   "language": "python",
   "name": "python3"
  },
  "language_info": {
   "codemirror_mode": {
    "name": "ipython",
    "version": 3
   },
   "file_extension": ".py",
   "mimetype": "text/x-python",
   "name": "python",
   "nbconvert_exporter": "python",
   "pygments_lexer": "ipython3",
   "version": "3.12.4"
  }
 },
 "nbformat": 4,
 "nbformat_minor": 2
}
