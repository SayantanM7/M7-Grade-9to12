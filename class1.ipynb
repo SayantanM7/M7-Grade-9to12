{
 "cells": [
  {
   "cell_type": "code",
   "execution_count": 3,
   "metadata": {},
   "outputs": [],
   "source": [
    "#odd even flowchart\n",
    "from PIL import Image, ImageDraw, ImageFont\n",
    "img=Image.open(\"flowchart.png\")\n",
    "img.show()"
   ]
  },
  {
   "cell_type": "code",
   "execution_count": 4,
   "metadata": {},
   "outputs": [
    {
     "name": "stdout",
     "output_type": "stream",
     "text": [
      "Welcome to the world of programming!\n",
      "4\n",
      "Hello Python \n",
      "\n",
      "Keywords in Python are....\n",
      "['False', 'None', 'True', 'and', 'as', 'assert', 'async', 'await', 'break', 'class', 'continue', 'def', 'del', 'elif', 'else', 'except', 'finally', 'for', 'from', 'global', 'if', 'import', 'in', 'is', 'lambda', 'nonlocal', 'not', 'or', 'pass', 'raise', 'return', 'try', 'while', 'with', 'yield']\n"
     ]
    }
   ],
   "source": [
    "#Print a Sentence \n",
    "print(\"Welcome to the world of programming!\")\n",
    "\n",
    "#Print a Number\n",
    "print(4)\n",
    "\n",
    "#Next Line after print\n",
    "print(\"Hello Python \\n\")\n",
    "\n",
    "#Print all the keywords present in Python\n",
    "print(\"Keywords in Python are....\")\n",
    "import keyword\n",
    "print(keyword.kwlist)"
   ]
  }
 ],
 "metadata": {
  "kernelspec": {
   "display_name": "base",
   "language": "python",
   "name": "python3"
  },
  "language_info": {
   "codemirror_mode": {
    "name": "ipython",
    "version": 3
   },
   "file_extension": ".py",
   "mimetype": "text/x-python",
   "name": "python",
   "nbconvert_exporter": "python",
   "pygments_lexer": "ipython3",
   "version": "3.12.4"
  }
 },
 "nbformat": 4,
 "nbformat_minor": 2
}
