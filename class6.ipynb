{
 "cells": [
  {
   "cell_type": "code",
   "execution_count": 1,
   "metadata": {},
   "outputs": [],
   "source": [
    "import turtle\n",
    "\n",
    "# creating canvas\n",
    "turtle.Screen().bgcolor(\"Orange\")\n",
    "\n",
    "sc = turtle.Screen()\n",
    "sc.setup(400, 300)\n",
    "\n",
    "turtle.title(\"Welcome to Turtle Window\")\n",
    "\n",
    "# turtle object creation\n",
    "board = turtle.Turtle()\n",
    "\n",
    "# creating a square\n",
    "for i in range(4):\n",
    "\tboard.forward(100)\n",
    "\tboard.left(90)\n",
    "\ti = i+1\n",
    "\n"
   ]
  },
  {
   "cell_type": "code",
   "execution_count": null,
   "metadata": {},
   "outputs": [],
   "source": [
    "#star\n",
    "import turtle\n",
    "\n",
    "turtle.Screen().bgcolor(\"Orange\")\n",
    "board = turtle.Turtle()\n",
    " \n",
    "# first triangle for star\n",
    "board.forward(100) # draw base\n",
    " \n",
    "board.left(120)\n",
    "board.forward(100)\n",
    " \n",
    "board.left(120)\n",
    "board.forward(100)\n",
    " \n",
    "board.penup()\n",
    "board.right(150)\n",
    "board.forward(50)\n",
    " \n",
    "# second triangle for star\n",
    "board.pendown()\n",
    "board.right(90)\n",
    "board.forward(100)\n",
    " \n",
    "board.right(120)\n",
    "board.forward(100)\n",
    " \n",
    "board.right(120)\n",
    "board.forward(100)\n",
    " \n",
    "turtle.done()"
   ]
  },
  {
   "cell_type": "code",
   "execution_count": 2,
   "metadata": {},
   "outputs": [
    {
     "ename": "KeyboardInterrupt",
     "evalue": "",
     "output_type": "error",
     "traceback": [
      "\u001b[1;31m---------------------------------------------------------------------------\u001b[0m",
      "\u001b[1;31mKeyboardInterrupt\u001b[0m                         Traceback (most recent call last)",
      "Cell \u001b[1;32mIn[2], line 14\u001b[0m\n\u001b[0;32m     12\u001b[0m   t\u001b[38;5;241m.\u001b[39mwidth(x\u001b[38;5;241m/\u001b[39m\u001b[38;5;241m100\u001b[39m \u001b[38;5;241m+\u001b[39m \u001b[38;5;241m1\u001b[39m)\n\u001b[0;32m     13\u001b[0m   t\u001b[38;5;241m.\u001b[39mforward(x) \n\u001b[1;32m---> 14\u001b[0m   t\u001b[38;5;241m.\u001b[39mleft(\u001b[38;5;241m59\u001b[39m)\n\u001b[0;32m     15\u001b[0m t\u001b[38;5;241m.\u001b[39mright(\u001b[38;5;241m239\u001b[39m)  \n\u001b[0;32m     16\u001b[0m \u001b[38;5;28;01mfor\u001b[39;00m x \u001b[38;5;129;01min\u001b[39;00m \u001b[38;5;28mrange\u001b[39m(\u001b[38;5;241m200\u001b[39m, \u001b[38;5;241m0\u001b[39m, \u001b[38;5;241m-\u001b[39m\u001b[38;5;241m1\u001b[39m): \n",
      "File \u001b[1;32mc:\\Users\\Sayantan\\anaconda3\\Lib\\turtle.py:1698\u001b[0m, in \u001b[0;36mTNavigator.left\u001b[1;34m(self, angle)\u001b[0m\n\u001b[0;32m   1679\u001b[0m \u001b[38;5;28;01mdef\u001b[39;00m \u001b[38;5;21mleft\u001b[39m(\u001b[38;5;28mself\u001b[39m, angle):\n\u001b[0;32m   1680\u001b[0m \u001b[38;5;250m    \u001b[39m\u001b[38;5;124;03m\"\"\"Turn turtle left by angle units.\u001b[39;00m\n\u001b[0;32m   1681\u001b[0m \n\u001b[0;32m   1682\u001b[0m \u001b[38;5;124;03m    Aliases: left | lt\u001b[39;00m\n\u001b[1;32m   (...)\u001b[0m\n\u001b[0;32m   1696\u001b[0m \u001b[38;5;124;03m    67.0\u001b[39;00m\n\u001b[0;32m   1697\u001b[0m \u001b[38;5;124;03m    \"\"\"\u001b[39;00m\n\u001b[1;32m-> 1698\u001b[0m     \u001b[38;5;28mself\u001b[39m\u001b[38;5;241m.\u001b[39m_rotate(angle)\n",
      "File \u001b[1;32mc:\\Users\\Sayantan\\anaconda3\\Lib\\turtle.py:3350\u001b[0m, in \u001b[0;36mRawTurtle._rotate\u001b[1;34m(self, angle)\u001b[0m\n\u001b[0;32m   3348\u001b[0m         \u001b[38;5;28mself\u001b[39m\u001b[38;5;241m.\u001b[39m_update()\n\u001b[0;32m   3349\u001b[0m \u001b[38;5;28mself\u001b[39m\u001b[38;5;241m.\u001b[39m_orient \u001b[38;5;241m=\u001b[39m neworient\n\u001b[1;32m-> 3350\u001b[0m \u001b[38;5;28mself\u001b[39m\u001b[38;5;241m.\u001b[39m_update()\n",
      "File \u001b[1;32mc:\\Users\\Sayantan\\anaconda3\\Lib\\turtle.py:2671\u001b[0m, in \u001b[0;36mRawTurtle._update\u001b[1;34m(self)\u001b[0m\n\u001b[0;32m   2669\u001b[0m     \u001b[38;5;28mself\u001b[39m\u001b[38;5;241m.\u001b[39m_drawturtle()\n\u001b[0;32m   2670\u001b[0m     screen\u001b[38;5;241m.\u001b[39m_update()                  \u001b[38;5;66;03m# TurtleScreenBase\u001b[39;00m\n\u001b[1;32m-> 2671\u001b[0m     screen\u001b[38;5;241m.\u001b[39m_delay(screen\u001b[38;5;241m.\u001b[39m_delayvalue) \u001b[38;5;66;03m# TurtleScreenBase\u001b[39;00m\n\u001b[0;32m   2672\u001b[0m \u001b[38;5;28;01melse\u001b[39;00m:\n\u001b[0;32m   2673\u001b[0m     \u001b[38;5;28mself\u001b[39m\u001b[38;5;241m.\u001b[39m_update_data()\n",
      "File \u001b[1;32mc:\\Users\\Sayantan\\anaconda3\\Lib\\turtle.py:560\u001b[0m, in \u001b[0;36mTurtleScreenBase._delay\u001b[1;34m(self, delay)\u001b[0m\n\u001b[0;32m    558\u001b[0m \u001b[38;5;28;01mdef\u001b[39;00m \u001b[38;5;21m_delay\u001b[39m(\u001b[38;5;28mself\u001b[39m, delay):\n\u001b[0;32m    559\u001b[0m \u001b[38;5;250m    \u001b[39m\u001b[38;5;124;03m\"\"\"Delay subsequent canvas actions for delay ms.\"\"\"\u001b[39;00m\n\u001b[1;32m--> 560\u001b[0m     \u001b[38;5;28mself\u001b[39m\u001b[38;5;241m.\u001b[39mcv\u001b[38;5;241m.\u001b[39mafter(delay)\n",
      "File \u001b[1;32mc:\\Users\\Sayantan\\anaconda3\\Lib\\tkinter\\__init__.py:857\u001b[0m, in \u001b[0;36mMisc.after\u001b[1;34m(self, ms, func, *args)\u001b[0m\n\u001b[0;32m    849\u001b[0m \u001b[38;5;250m\u001b[39m\u001b[38;5;124;03m\"\"\"Call function once after given time.\u001b[39;00m\n\u001b[0;32m    850\u001b[0m \n\u001b[0;32m    851\u001b[0m \u001b[38;5;124;03mMS specifies the time in milliseconds. FUNC gives the\u001b[39;00m\n\u001b[0;32m    852\u001b[0m \u001b[38;5;124;03mfunction which shall be called. Additional parameters\u001b[39;00m\n\u001b[0;32m    853\u001b[0m \u001b[38;5;124;03mare given as parameters to the function call.  Return\u001b[39;00m\n\u001b[0;32m    854\u001b[0m \u001b[38;5;124;03midentifier to cancel scheduling with after_cancel.\"\"\"\u001b[39;00m\n\u001b[0;32m    855\u001b[0m \u001b[38;5;28;01mif\u001b[39;00m func \u001b[38;5;129;01mis\u001b[39;00m \u001b[38;5;28;01mNone\u001b[39;00m:\n\u001b[0;32m    856\u001b[0m     \u001b[38;5;66;03m# I'd rather use time.sleep(ms*0.001)\u001b[39;00m\n\u001b[1;32m--> 857\u001b[0m     \u001b[38;5;28mself\u001b[39m\u001b[38;5;241m.\u001b[39mtk\u001b[38;5;241m.\u001b[39mcall(\u001b[38;5;124m'\u001b[39m\u001b[38;5;124mafter\u001b[39m\u001b[38;5;124m'\u001b[39m, ms)\n\u001b[0;32m    858\u001b[0m     \u001b[38;5;28;01mreturn\u001b[39;00m \u001b[38;5;28;01mNone\u001b[39;00m\n\u001b[0;32m    859\u001b[0m \u001b[38;5;28;01melse\u001b[39;00m:\n",
      "\u001b[1;31mKeyboardInterrupt\u001b[0m: "
     ]
    },
    {
     "ename": "",
     "evalue": "",
     "output_type": "error",
     "traceback": [
      "\u001b[1;31mThe Kernel crashed while executing code in the current cell or a previous cell. \n",
      "\u001b[1;31mPlease review the code in the cell(s) to identify a possible cause of the failure. \n",
      "\u001b[1;31mClick <a href='https://aka.ms/vscodeJupyterKernelCrash'>here</a> for more info. \n",
      "\u001b[1;31mView Jupyter <a href='command:jupyter.viewOutput'>log</a> for further details."
     ]
    }
   ],
   "source": [
    "#rainbow\n",
    "import turtle \n",
    "t = turtle.Turtle()\n",
    "s = turtle.Screen()\n",
    "colors = ['red', 'purple', 'blue', 'green', 'orange', 'yellow'] \n",
    "s.bgcolor('black') \n",
    "t.speed('fastest')\n",
    "t.hideturtle()\n",
    "while True:\n",
    "  for x in range(200): \n",
    "    t.pencolor(colors[x%len(colors)])\n",
    "    t.width(x/100 + 1)\n",
    "    t.forward(x) \n",
    "    t.left(59)\n",
    "  t.right(239)  \n",
    "  for x in range(200, 0, -1): \n",
    "    t.pencolor('black') \n",
    "    t.width(x/100 + 7)\n",
    "    t.forward(x) \n",
    "    t.right(59) "
   ]
  }
 ],
 "metadata": {
  "kernelspec": {
   "display_name": "base",
   "language": "python",
   "name": "python3"
  },
  "language_info": {
   "codemirror_mode": {
    "name": "ipython",
    "version": 3
   },
   "file_extension": ".py",
   "mimetype": "text/x-python",
   "name": "python",
   "nbconvert_exporter": "python",
   "pygments_lexer": "ipython3",
   "version": "3.12.4"
  }
 },
 "nbformat": 4,
 "nbformat_minor": 2
}
