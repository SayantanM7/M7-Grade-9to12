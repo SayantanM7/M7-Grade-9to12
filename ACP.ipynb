{
 "cells": [
  {
   "cell_type": "code",
   "execution_count": 1,
   "metadata": {},
   "outputs": [],
   "source": [
    "#odd even flowchart\n",
    "from PIL import Image, ImageDraw, ImageFont\n",
    "img=Image.open(\"flowchart.png\")\n",
    "img.show()"
   ]
  },
  {
   "cell_type": "code",
   "execution_count": 2,
   "metadata": {},
   "outputs": [
    {
     "name": "stdout",
     "output_type": "stream",
     "text": [
      "value of x after swapping 13\n",
      "value of y after swapping 12\n"
     ]
    }
   ],
   "source": [
    "#Number swapping\n",
    "# Take input values from user\n",
    "x = input(\"Enter Value of x:\")\n",
    "y = input(\"Enter Value of y:\")\n",
    "\n",
    "# Swapping\n",
    "temp = x\n",
    "x = y\n",
    "y = temp\n",
    "\n",
    "# Displaying results after swapping\n",
    "print(\"value of x after swapping\", x)\n",
    "print(\"value of y after swapping\", y)\n"
   ]
  },
  {
   "cell_type": "code",
   "execution_count": 5,
   "metadata": {},
   "outputs": [
    {
     "name": "stdout",
     "output_type": "stream",
     "text": [
      "Your attendance is  90.2\n",
      "You are eligible for writing exam\n"
     ]
    }
   ],
   "source": [
    "#exam eliibility\n",
    "nd = int(input(\"Enter total number of working days\"))\n",
    "na = int(input(\"Enter number of days  absent\"))\n",
    "\n",
    "per=(nd-na)/nd*100\n",
    "\n",
    "print(\"Your attendance is \",round(per,1))\n",
    "if per <75 :\n",
    "     print(\"You are not eligible for exams\")\n",
    "else:\n",
    "     print(\"You are eligible for writing exam\")"
   ]
  },
  {
   "cell_type": "code",
   "execution_count": 6,
   "metadata": {},
   "outputs": [
    {
     "name": "stdout",
     "output_type": "stream",
     "text": [
      "153 is an Armstrong number\n"
     ]
    }
   ],
   "source": [
    "#armstrong number\n",
    "# take input from the user\n",
    "num = int(input(\"Enter a number: \"))\n",
    "\n",
    "# initialize sum\n",
    "sum = 0\n",
    "\n",
    "# find the sum of the cube of each digit\n",
    "temp = num\n",
    "while temp > 0:\n",
    "   digit = temp % 10\n",
    "   sum += digit ** 3\n",
    "   temp //= 10\n",
    "\n",
    "# display the result\n",
    "if num == sum:\n",
    "   print(num,\"is an Armstrong number\")\n",
    "else:\n",
    "   print(num,\"is not an Armstrong number\")"
   ]
  },
  {
   "cell_type": "code",
   "execution_count": 7,
   "metadata": {},
   "outputs": [
    {
     "name": "stdout",
     "output_type": "stream",
     "text": [
      "Fibonacci sequence:\n",
      "0\n",
      "1\n",
      "1\n",
      "2\n",
      "3\n",
      "5\n",
      "8\n",
      "13\n",
      "21\n",
      "34\n"
     ]
    }
   ],
   "source": [
    "#Fibonacci sequence\n",
    "def recur_fibo(n):\n",
    "   if n <= 1:\n",
    "       return n\n",
    "   else:\n",
    "       return(recur_fibo(n-1) + recur_fibo(n-2))\n",
    "\n",
    "nterms = int(input(\"Enter Number of Terms :\"))\n",
    "\n",
    "# check if the number of terms is valid\n",
    "if nterms <= 0:\n",
    "   print(\"Plese enter a positive integer\")\n",
    "else:\n",
    "   print(\"Fibonacci sequence:\")\n",
    "   for i in range(nterms):\n",
    "       print(recur_fibo(i))\n"
   ]
  },
  {
   "cell_type": "code",
   "execution_count": 8,
   "metadata": {},
   "outputs": [
    {
     "ename": "KeyboardInterrupt",
     "evalue": "",
     "output_type": "error",
     "traceback": [
      "\u001b[1;31m---------------------------------------------------------------------------\u001b[0m",
      "\u001b[1;31mKeyboardInterrupt\u001b[0m                         Traceback (most recent call last)",
      "Cell \u001b[1;32mIn[8], line 30\u001b[0m\n\u001b[0;32m     27\u001b[0m pen\u001b[38;5;241m.\u001b[39mhideturtle()\n\u001b[0;32m     29\u001b[0m \u001b[38;5;66;03m# Keep the window open until it's manually closed\u001b[39;00m\n\u001b[1;32m---> 30\u001b[0m turtle\u001b[38;5;241m.\u001b[39mdone()\n",
      "File \u001b[1;32m<string>:8\u001b[0m, in \u001b[0;36mmainloop\u001b[1;34m()\u001b[0m\n",
      "File \u001b[1;32mc:\\Users\\Sayantan\\anaconda3\\Lib\\turtle.py:803\u001b[0m, in \u001b[0;36mTurtleScreenBase.mainloop\u001b[1;34m(self)\u001b[0m\n\u001b[0;32m    790\u001b[0m \u001b[38;5;28;01mdef\u001b[39;00m \u001b[38;5;21mmainloop\u001b[39m(\u001b[38;5;28mself\u001b[39m):\n\u001b[0;32m    791\u001b[0m \u001b[38;5;250m    \u001b[39m\u001b[38;5;124;03m\"\"\"Starts event loop - calling Tkinter's mainloop function.\u001b[39;00m\n\u001b[0;32m    792\u001b[0m \n\u001b[0;32m    793\u001b[0m \u001b[38;5;124;03m    No argument.\u001b[39;00m\n\u001b[1;32m   (...)\u001b[0m\n\u001b[0;32m    801\u001b[0m \n\u001b[0;32m    802\u001b[0m \u001b[38;5;124;03m    \"\"\"\u001b[39;00m\n\u001b[1;32m--> 803\u001b[0m     \u001b[38;5;28mself\u001b[39m\u001b[38;5;241m.\u001b[39mcv\u001b[38;5;241m.\u001b[39mtk\u001b[38;5;241m.\u001b[39mmainloop()\n",
      "\u001b[1;31mKeyboardInterrupt\u001b[0m: "
     ]
    },
    {
     "ename": "",
     "evalue": "",
     "output_type": "error",
     "traceback": [
      "\u001b[1;31mThe Kernel crashed while executing code in the current cell or a previous cell. \n",
      "\u001b[1;31mPlease review the code in the cell(s) to identify a possible cause of the failure. \n",
      "\u001b[1;31mClick <a href='https://aka.ms/vscodeJupyterKernelCrash'>here</a> for more info. \n",
      "\u001b[1;31mView Jupyter <a href='command:jupyter.viewOutput'>log</a> for further details."
     ]
    }
   ],
   "source": [
    "import turtle\n",
    "\n",
    "# Create a turtle object\n",
    "pen = turtle.Turtle()\n",
    "\n",
    "\n",
    "pen.speed(0)  # Adjust as needed (1-10, or 0 for fastest)\n",
    "\n",
    "\n",
    "pen.color(\"blue\")\n",
    "\n",
    "\n",
    "pen.fillcolor(\"lightblue\")\n",
    "\n",
    "# Begin filling the hexagon\n",
    "pen.begin_fill()\n",
    "\n",
    "# Draw the hexagon\n",
    "for _ in range(6):  # Repeat 6 times for 6 sides\n",
    "    pen.forward(50)  # Move forward by 50 units (adjust as needed)\n",
    "    pen.left(60)   # Turn left by 60 degrees (360/6 = 60)\n",
    "\n",
    "# End filling the hexagon\n",
    "pen.end_fill()\n",
    "\n",
    "\n",
    "pen.hideturtle()\n",
    "\n",
    "# Keep the window open until it's manually closed\n",
    "turtle.done()"
   ]
  }
 ],
 "metadata": {
  "kernelspec": {
   "display_name": "base",
   "language": "python",
   "name": "python3"
  },
  "language_info": {
   "codemirror_mode": {
    "name": "ipython",
    "version": 3
   },
   "file_extension": ".py",
   "mimetype": "text/x-python",
   "name": "python",
   "nbconvert_exporter": "python",
   "pygments_lexer": "ipython3",
   "version": "3.12.4"
  }
 },
 "nbformat": 4,
 "nbformat_minor": 2
}
